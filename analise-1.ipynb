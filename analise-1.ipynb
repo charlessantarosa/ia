{
  "nbformat": 4,
  "nbformat_minor": 0,
  "metadata": {
    "colab": {
      "name": "Untitled0.ipynb",
      "provenance": [],
      "authorship_tag": "ABX9TyNmCoWN0dnrsadv0CKuyRKB",
      "include_colab_link": true
    },
    "kernelspec": {
      "name": "python3",
      "display_name": "Python 3"
    }
  },
  "cells": [
    {
      "cell_type": "markdown",
      "metadata": {
        "id": "view-in-github",
        "colab_type": "text"
      },
      "source": [
        "<a href=\"https://colab.research.google.com/github/charlessantarosa/ia/blob/main/analise-1.ipynb\" target=\"_parent\"><img src=\"https://colab.research.google.com/assets/colab-badge.svg\" alt=\"Open In Colab\"/></a>"
      ]
    },
    {
      "cell_type": "code",
      "metadata": {
        "id": "p8XoKEZEV-9r",
        "colab": {
          "base_uri": "https://localhost:8080/"
        },
        "outputId": "57d93383-4af3-4a65-e721-40af6d8ab5c5"
      },
      "source": [
        "import pandas as pd\n",
        "import numpy as np\n",
        "import statistics as st\n",
        "import seaborn as se\n",
        "import statsmodels.stats.proportion as smp\n",
        "import operator\n",
        "import matplotlib.pyplot as plt\n",
        "import math\n",
        "from scipy import stats\n",
        "from scipy.stats import t,norm, ttest_ind, ttest_1samp, ttest_ind, chi2_contingency"
      ],
      "execution_count": 1,
      "outputs": [
        {
          "output_type": "stream",
          "text": [
            "/usr/local/lib/python3.6/dist-packages/statsmodels/tools/_testing.py:19: FutureWarning: pandas.util.testing is deprecated. Use the functions in the public API at pandas.testing instead.\n",
            "  import pandas.util.testing as tm\n"
          ],
          "name": "stderr"
        }
      ]
    },
    {
      "cell_type": "code",
      "metadata": {
        "id": "zvk9_VQZWiZz"
      },
      "source": [
        "file_name = './data.xlsx'\n",
        "sheet_name = 'Respostas ao formulário 1'\n",
        "df = pd.read_excel(file_name, sheet_name, index_col=0)\n",
        "\n",
        "columns = {    \n",
        "    'Seu nome': 'developer',\n",
        "    'Selecione o(s) projeto(s) que está trabalhando atualmente?': 'projetoAtual',\n",
        "    'Qual IDE de desenvolvimento você utiliza no Instituto?': 'ideInstituto',\n",
        "    'Qual linguagem de programação você mais utiliza nos projetos do Instituto?': 'lingMaisUtilizadaInstituto',\n",
        "    'Qual ferramenta no processo de versionamento você utiliza nos projetos do Instituto?': 'processoVersionInsituto',\n",
        "    'Qual o tipo de versionamento você utiliza nos projetos do Instituto?': 'tipoVersionInstituto',\n",
        "    'Quais frameworks você trabalha atualmente no Instituto?': 'frameworksTrabalhaInstituto',\n",
        "    'Qual a principal plataforma em que você desenvolve projetos no Instituto?': 'plataformaDevInstituto',\n",
        "    'Que área de desenvolvimento você atua prioritariamente no Instituto?': 'areaDevInstituto',\n",
        "    'Qual banco de dados você, prioritariamente, trabalha no desenvolvimento de projetos do Instituto?': 'bancoDevPrioritariamente',\n",
        "    'Com base em sua experiência profissional, qual a sua IDE favorita?': 'ideFavorita',\n",
        "    'De acordo com sua experiência profissional em desenvolvimento, qual linguagem prefere trabalhar?': 'linguagemPreferida',\n",
        "    'Conforme sua vivência profissional, qual plataforma você mais gosta de trabalhar?': 'plataformaPreferida',\n",
        "    'Levando em consideração sua experiência profissional, qual área de desenvolvimento você prefere trabalhar?': 'areaDevPreferida',\n",
        "    'Com base em sua experiência profissional, quais frameworks você prefere trabalhar?': 'frameworkPreferido',\n",
        "    'Conforme sua experiência profissional, qual o tipo de versionamento você prefere trabalhar?': 'versionamentoPreferido',\n",
        "    'Levando em consideração sua experiência profissional, qual ferramenta no processo de versionamento você prefere utilizar?': 'processoVersionPreferida',\n",
        "    'Com base em sua experiência profissional, qual banco de dados você prefere trabalhar no desenvolvimento?': 'bancoDevPreferido',\n",
        "    'Levando em consideração sua experiência profissional, qual o local de armazenamento de código fonte, de desenvolvimento, você prefere utilizar?': 'versionamentoAmbientePreferido',\n",
        "    'Comentários e Sugestões': 'comentariosSugestoes'\n",
        "    \n",
        "}\n",
        "df.rename(columns=columns, inplace = True)\n",
        "df.insert(0, 'developerId', range(1, 1 + len(df)))\n",
        "df['projetoAtual'] = df['projetoAtual'].str.lower()\n",
        "df['lingMaisUtilizadaInstituto'] = df['lingMaisUtilizadaInstituto'].str.lower()\n",
        "df['linguagemPreferida'] = df['linguagemPreferida'].str.lower()\n",
        "df.head()"
      ],
      "execution_count": null,
      "outputs": []
    }
  ]
}